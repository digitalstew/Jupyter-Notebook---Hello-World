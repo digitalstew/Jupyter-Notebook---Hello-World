{
 "cells": [
  {
   "cell_type": "markdown",
   "metadata": {},
   "source": [
    "<h3>The following Python code is my version of the standard \"Hello World\" application. Rather than hello for Python, this is hello world for my introduction to Jupyter Notebooks.</h3>"
   ]
  },
  {
   "cell_type": "markdown",
   "metadata": {},
   "source": [
    "<i>Function <b>validate_integer</b> \n",
    "Takes a user input in the form of a string and tries to convert the string to an integer. Returns True if successful, False if not.</i>"
   ]
  },
  {
   "cell_type": "code",
   "execution_count": 1,
   "metadata": {
    "collapsed": true
   },
   "outputs": [],
   "source": [
    "def validate_integer(usr_in):\n",
    "    result = False \n",
    "    try:\n",
    "        n = int(usr_in)\n",
    "        result = True\n",
    "    except ValueError:\n",
    "        result = False\n",
    "    \n",
    "    return result"
   ]
  },
  {
   "cell_type": "markdown",
   "metadata": {},
   "source": [
    "<i>Function <b>validate_float</b> \n",
    "Takes a user input in the form of a string and tries to convert the string to an float. Returns True if successful, False if not.</i>"
   ]
  },
  {
   "cell_type": "code",
   "execution_count": 2,
   "metadata": {
    "collapsed": true
   },
   "outputs": [],
   "source": [
    "def validate_float(usr_in):\n",
    "    result = False \n",
    "    try:\n",
    "        n = float(usr_in)\n",
    "        result = True\n",
    "    except ValueError:\n",
    "        result = False\n",
    "    \n",
    "    return result"
   ]
  },
  {
   "cell_type": "markdown",
   "metadata": {},
   "source": [
    "<i>Function <b>evaluate_string</b> \n",
    "Takes a user input in the form of a string and determines if the string is alphabetic, alphanumeric or something else. The result returned is a description of the string.</i>"
   ]
  },
  {
   "cell_type": "code",
   "execution_count": 3,
   "metadata": {
    "collapsed": true
   },
   "outputs": [],
   "source": [
    "def evaluate_string(usr_in):\n",
    "    result = \"\"\n",
    "    \n",
    "    if usr_in.isalpha():\n",
    "        result = \"alphabetic\"\n",
    "    elif usr_in.isalnum():\n",
    "        result = \"alphanumeric\"\n",
    "    else:\n",
    "        result = \"weird!\"\n",
    "        \n",
    "    return result"
   ]
  },
  {
   "cell_type": "markdown",
   "metadata": {},
   "source": [
    "<i>The main entry point in the python program. The programs asks for input once, evaluates the input the and then prints feedback about the input.</i>"
   ]
  },
  {
   "cell_type": "code",
   "execution_count": 4,
   "metadata": {
    "scrolled": false
   },
   "outputs": [
    {
     "name": "stdout",
     "output_type": "stream",
     "text": [
      "\n",
      "User Input Examples\n",
      "\n",
      "Enter something:5280.25\n",
      "You entered a float: 5280.25\n",
      "\n"
     ]
    }
   ],
   "source": [
    "print()\n",
    "print(\"User Input Examples\")\n",
    "print()\n",
    "\n",
    "# prompt for and get user input\n",
    "user_input = input(\"Enter something:\")\n",
    "\n",
    "result = validate_integer(user_input)\n",
    "if result == True:\n",
    "    print(\"You entered an integer:\", user_input)\n",
    "else:   \n",
    "    result = validate_float(user_input) \n",
    "    if result == True:\n",
    "        print(\"You entered a float:\", user_input)       \n",
    "    else:\n",
    "        print(\"You entered a string:\", user_input) \n",
    "        print(\"and the string was \", evaluate_string(user_input))        \n",
    "print()"
   ]
  },
  {
   "cell_type": "markdown",
   "metadata": {},
   "source": [
    "Above is an example of the output.\n",
    "When this Jupyter Notebook gets posted to my GitHub page a link will be provided."
   ]
  }
 ],
 "metadata": {
  "kernelspec": {
   "display_name": "Python 3",
   "language": "python",
   "name": "python3"
  },
  "language_info": {
   "codemirror_mode": {
    "name": "ipython",
    "version": 3
   },
   "file_extension": ".py",
   "mimetype": "text/x-python",
   "name": "python",
   "nbconvert_exporter": "python",
   "pygments_lexer": "ipython3",
   "version": "3.6.2"
  }
 },
 "nbformat": 4,
 "nbformat_minor": 2
}
